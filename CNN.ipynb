{
 "cells": [
  {
   "cell_type": "code",
   "execution_count": 2,
   "metadata": {},
   "outputs": [],
   "source": [
    "import torch\n",
    "from torch import nn\n",
    "from torchvision import models, transforms\n",
    "import os\n",
    "import random\n",
    "from pathlib import Path\n",
    "from PIL import Image\n",
    "import pandas as pd"
   ]
  },
  {
   "cell_type": "code",
   "execution_count": 3,
   "metadata": {},
   "outputs": [],
   "source": [
    "# Find Data\n",
    "data = Path(\"Data/\")\n",
    "image_path = data / \"XRAY_DATA\"\n",
    "\n",
    "# Train/Test Directory\n",
    "train_dir = image_path / \"train\"\n",
    "test_dir = image_path / \"test\""
   ]
  },
  {
   "cell_type": "markdown",
   "metadata": {},
   "source": [
    "### Visualize images"
   ]
  },
  {
   "cell_type": "code",
   "execution_count": 8,
   "metadata": {},
   "outputs": [],
   "source": [
    "# Get all image paths\n",
    "train_image_paths = (list(train_dir.glob(\"*.png\")) + \n",
    "                     list(train_dir.glob(\"*.jpeg\")) + \n",
    "                     list(train_dir.glob(\"*.jpg\")))\n",
    "\n",
    "test_image_paths = (list(test_dir.glob(\"*.png\")) +\n",
    "                    list(test_dir.glob(\"*.jpeg\")) +\n",
    "                    list(test_dir.glob(\"*.jpg\")))"
   ]
  },
  {
   "cell_type": "code",
   "execution_count": 5,
   "metadata": {},
   "outputs": [],
   "source": [
    "# Load Image Meta Data For Labels\n",
    "df = pd.read_csv(data / \"Metadata.csv\")\n",
    "\n",
    "# Remove unneeded columns\n",
    "df.drop('Unnamed: 0', axis=1, inplace=True)\n",
    "df.drop('Label_2_Virus_category', axis=1, inplace=True)\n",
    "df.drop('Label_1_Virus_category', axis=1, inplace=True)"
   ]
  },
  {
   "cell_type": "markdown",
   "metadata": {},
   "source": [
    "### Sort Data into Classes"
   ]
  },
  {
   "cell_type": "code",
   "execution_count": 10,
   "metadata": {},
   "outputs": [],
   "source": [
    "# Sort image into folders by label and delete files not in the dataframe\n",
    "for image_path in train_image_paths:\n",
    "    image_name = image_path.name\n",
    "    if image_name not in df['X_ray_image_name'].values:\n",
    "        os.remove(image_path)\n",
    "    else:\n",
    "        label = df[df['X_ray_image_name'] == image_name]['Label'].values[0]\n",
    "        if label == 'Normal':\n",
    "            os.rename(image_path, train_dir / \"Normal\" / image_name)\n",
    "        elif label == 'Pnemonia':\n",
    "            os.rename(image_path, train_dir / \"Pnemonia\" / image_name)\n",
    "\n",
    "for image_path in test_image_paths:\n",
    "    image_name = image_path.name\n",
    "    if image_name not in df['X_ray_image_name'].values:\n",
    "        os.remove(image_path)\n",
    "    else:\n",
    "        label = df[df['X_ray_image_name'] == image_name]['Label'].values[0]\n",
    "        if label == 'Normal':\n",
    "            os.rename(image_path, test_dir / \"Normal\" / image_name)\n",
    "        elif label == 'Pnemonia':\n",
    "            os.rename(image_path, test_dir / \"Pnemonia\" / image_name)"
   ]
  },
  {
   "cell_type": "code",
   "execution_count": null,
   "metadata": {},
   "outputs": [],
   "source": []
  }
 ],
 "metadata": {
  "kernelspec": {
   "display_name": "Python 3",
   "language": "python",
   "name": "python3"
  },
  "language_info": {
   "codemirror_mode": {
    "name": "ipython",
    "version": 3
   },
   "file_extension": ".py",
   "mimetype": "text/x-python",
   "name": "python",
   "nbconvert_exporter": "python",
   "pygments_lexer": "ipython3",
   "version": "3.12.5"
  }
 },
 "nbformat": 4,
 "nbformat_minor": 2
}
