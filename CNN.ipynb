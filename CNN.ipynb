{
 "cells": [
  {
   "cell_type": "code",
   "execution_count": 9,
   "metadata": {},
   "outputs": [],
   "source": [
    "import os\n",
    "import random\n",
    "from pathlib import Path\n",
    "from PIL import Image\n",
    "import pandas as pd"
   ]
  },
  {
   "cell_type": "markdown",
   "metadata": {},
   "source": [
    "# Data Cleaning"
   ]
  },
  {
   "cell_type": "markdown",
   "metadata": {},
   "source": [
    "### A. Get Paths"
   ]
  },
  {
   "cell_type": "code",
   "execution_count": 10,
   "metadata": {},
   "outputs": [],
   "source": [
    "# Find Data\n",
    "data = Path(\"Data/\")\n",
    "image_path = data / \"XRAY_DATA\"\n",
    "\n",
    "# Train/Test Directory\n",
    "train_dir = image_path / \"train\"\n",
    "test_dir = image_path / \"test\""
   ]
  },
  {
   "cell_type": "code",
   "execution_count": 11,
   "metadata": {},
   "outputs": [],
   "source": [
    "# Get all image paths\n",
    "train_image_paths = (list(train_dir.glob(\"*/*.png\")) + \n",
    "                     list(train_dir.glob(\"*/*.jpeg\")) + \n",
    "                     list(train_dir.glob(\"*.jpg\")))\n",
    "\n",
    "test_image_paths = (list(test_dir.glob(\"*/*.png\")) +\n",
    "                    list(test_dir.glob(\"*/*.jpeg\")) +\n",
    "                    list(test_dir.glob(\"*/*.jpg\")))"
   ]
  },
  {
   "cell_type": "markdown",
   "metadata": {},
   "source": [
    "### B. Get Data Labels"
   ]
  },
  {
   "cell_type": "code",
   "execution_count": 12,
   "metadata": {},
   "outputs": [],
   "source": [
    "# Load Image Meta Data For Labels\n",
    "df = pd.read_csv(data / \"Metadata.csv\")\n",
    "\n",
    "# Remove unneeded columns\n",
    "df.drop('Unnamed: 0', axis=1, inplace=True)\n",
    "df.drop('Label_2_Virus_category', axis=1, inplace=True)\n",
    "df.drop('Label_1_Virus_category', axis=1, inplace=True)"
   ]
  },
  {
   "cell_type": "markdown",
   "metadata": {},
   "source": [
    "### C. Sort Data into Classes based on labels"
   ]
  },
  {
   "cell_type": "code",
   "execution_count": 13,
   "metadata": {},
   "outputs": [],
   "source": [
    "# Sort image into folders by label and delete files not in the dataframe\n",
    "for image_path in train_image_paths:\n",
    "    image_name = image_path.name\n",
    "    if image_name not in df['X_ray_image_name'].values:\n",
    "        os.remove(image_path)\n",
    "    else:\n",
    "        label = df[df['X_ray_image_name'] == image_name]['Label'].values[0]\n",
    "        if label == 'Normal':\n",
    "            os.rename(image_path, train_dir / \"Normal\" / image_name)\n",
    "        elif label == 'Pnemonia':\n",
    "            os.rename(image_path, train_dir / \"Pnemonia\" / image_name)\n",
    "\n",
    "for image_path in test_image_paths:\n",
    "    image_name = image_path.name\n",
    "    if image_name not in df['X_ray_image_name'].values:\n",
    "        os.remove(image_path)\n",
    "    else:\n",
    "        label = df[df['X_ray_image_name'] == image_name]['Label'].values[0]\n",
    "        if label == 'Normal':\n",
    "            os.rename(image_path, test_dir / \"Normal\" / image_name)\n",
    "        elif label == 'Pnemonia':\n",
    "            os.rename(image_path, test_dir / \"Pnemonia\" / image_name)"
   ]
  },
  {
   "cell_type": "markdown",
   "metadata": {},
   "source": [
    "# Transform and Load Data with Torchvision"
   ]
  },
  {
   "cell_type": "code",
   "execution_count": 14,
   "metadata": {},
   "outputs": [],
   "source": [
    "import torch\n",
    "from torch import nn\n",
    "from torchvision import models, transforms, datasets\n",
    "from torch.utils.data import DataLoader"
   ]
  },
  {
   "cell_type": "code",
   "execution_count": 31,
   "metadata": {},
   "outputs": [],
   "source": [
    "# Make all of the images the same size\n",
    "img_transforms = transforms.Compose([\n",
    "    transforms.Resize([512, 512]),\n",
    "    transforms.ToTensor()\n",
    "])"
   ]
  },
  {
   "cell_type": "code",
   "execution_count": 32,
   "metadata": {},
   "outputs": [],
   "source": [
    "# Load Data\n",
    "train_data = datasets.ImageFolder(root = train_dir,\n",
    "                                  transform=img_transforms,\n",
    "                                  target_transform=None)\n",
    "\n",
    "test_data = datasets.ImageFolder(root= test_dir,\n",
    "                                 transform=img_transforms)"
   ]
  },
  {
   "cell_type": "code",
   "execution_count": 33,
   "metadata": {},
   "outputs": [],
   "source": [
    "# Turn into dataloaders\n",
    "BATCH_SIZE = 32\n",
    "NUM_WORKERS = 4\n",
    "\n",
    "train_dataloader = DataLoader(dataset = train_data,\n",
    "                              batch_size=BATCH_SIZE,\n",
    "                              shuffle = True,\n",
    "                              num_workers= NUM_WORKERS)\n",
    "\n",
    "test_dataloader = DataLoader(dataset=test_data,\n",
    "                             batch_size=BATCH_SIZE,\n",
    "                             shuffle=False,\n",
    "                             num_workers=NUM_WORKERS)"
   ]
  },
  {
   "cell_type": "markdown",
   "metadata": {},
   "source": [
    "# Create CNN Model"
   ]
  },
  {
   "cell_type": "code",
   "execution_count": 34,
   "metadata": {},
   "outputs": [],
   "source": [
    "from sklearn.svm import SVC"
   ]
  },
  {
   "cell_type": "code",
   "execution_count": 37,
   "metadata": {},
   "outputs": [],
   "source": [
    "class CNN_model(nn.Module):\n",
    "    def __init__(self, input_shape, hidden_dim, output_shape):\n",
    "        super().__init__()\n",
    "        self.conv_block_1 = nn.Sequential(\n",
    "            nn.Conv2d(in_channels=input_shape,\n",
    "                      out_channels=hidden_dim,\n",
    "                      kernel_size= 3,\n",
    "                      stride = 1,\n",
    "                      padding = 0),\n",
    "            nn.Conv2d(in_channels=hidden_dim,\n",
    "                      out_channels=hidden_dim,\n",
    "                      kernel_size= 3,\n",
    "                      stride = 1,\n",
    "                      padding = 0),\n",
    "            nn.MaxPool2d(kernel_size=2)\n",
    "        )\n",
    "        self.conv_block_2 = nn.Sequential(\n",
    "            nn.Conv2d(in_channels=input_shape,\n",
    "                      out_channels=hidden_dim,\n",
    "                      kernel_size= 3,\n",
    "                      stride = 1,\n",
    "                      padding = 0),\n",
    "            nn.Conv2d(in_channels=hidden_dim,\n",
    "                      out_channels=hidden_dim,\n",
    "                      kernel_size= 3,\n",
    "                      stride = 1,\n",
    "                      padding = 0),\n",
    "            nn.MaxPool2d(kernel_size=2)\n",
    "        )\n",
    "        self.conv_block_3 = nn.Sequential(\n",
    "            nn.Conv2d(in_channels=input_shape,\n",
    "                      out_channels=hidden_dim,\n",
    "                      kernel_size= 3,\n",
    "                      stride = 1,\n",
    "                      padding = 0),\n",
    "            nn.Conv2d(in_channels=hidden_dim,\n",
    "                      out_channels=output_shape,\n",
    "                      kernel_size= 3,\n",
    "                      stride = 1,\n",
    "                      padding = 0),\n",
    "            nn.MaxPool2d(kernel_size=2)\n",
    "        )\n",
    "        self.classifier = SVC(C=1, kernel='rbf', gamma='auto')\n",
    "\n",
    "    def forward(self, x):\n",
    "        return self.classifier(self.conv_block_3(self.conv_block_2(self.conv_block_1(x))))\n"
   ]
  },
  {
   "cell_type": "code",
   "execution_count": 38,
   "metadata": {},
   "outputs": [],
   "source": [
    "# Initialize model\n",
    "model = CNN_model(input_shape=3,\n",
    "                  hidden_dim=10,\n",
    "                  output_shape=len(train_data.classes))"
   ]
  },
  {
   "cell_type": "code",
   "execution_count": null,
   "metadata": {},
   "outputs": [],
   "source": []
  }
 ],
 "metadata": {
  "kernelspec": {
   "display_name": "Python 3",
   "language": "python",
   "name": "python3"
  },
  "language_info": {
   "codemirror_mode": {
    "name": "ipython",
    "version": 3
   },
   "file_extension": ".py",
   "mimetype": "text/x-python",
   "name": "python",
   "nbconvert_exporter": "python",
   "pygments_lexer": "ipython3",
   "version": "3.12.5"
  }
 },
 "nbformat": 4,
 "nbformat_minor": 2
}
